{
 "cells": [
  {
   "cell_type": "code",
   "execution_count": 1,
   "metadata": {},
   "outputs": [],
   "source": [
    "#!/usr/bin/python\n",
    "\n",
    "import uproot\n",
    "from icecream import ic\n",
    "import numpy as np\n",
    "import pandas as pd\n",
    "import matplotlib.mlab as mlab\n",
    "import matplotlib.pyplot as plt\n",
    "import subprocess\n",
    "import os\n",
    "import time\n",
    "import shutil\n",
    "from shutil import copyfile\n"
   ]
  },
  {
   "cell_type": "code",
   "execution_count": 2,
   "metadata": {},
   "outputs": [],
   "source": [
    "\"\"\"\n",
    "Methods and constants to help pandas algebra without using ROOT.\n",
    "Borrowed Directly from Sangbaek\n",
    "\"\"\"\n",
    "import numpy as np\n",
    "\n",
    "def dot(vec1, vec2):\n",
    "\t# dot product of two 3d vectors\n",
    "    return vec1[0]*vec2[0]+vec1[1]*vec2[1]+vec1[2]*vec2[2]\n",
    "\n",
    "def mag(vec1):\n",
    "\t# L2 norm of vector\n",
    "\treturn np.sqrt(dot(vec1, vec1))\n",
    "\n",
    "def mag2(vec1):\n",
    "\t# square of L2 norm\n",
    "\treturn\tdot(vec1, vec1)\n",
    "\n",
    "def cosTheta(vec1, vec2):\n",
    "\t# cosine angle between two 3d vectors\n",
    "    return dot(vec1,vec2)/np.sqrt(mag2(vec1) * mag2(vec2))\n",
    "\n",
    "def angle(vec1, vec2):\n",
    "\t# angle between two 3d vectors\n",
    "\treturn 180/np.pi*np.arccos(np.minimum(1, cosTheta(vec1, vec2)))\n",
    "\n",
    "def cross(vec1, vec2):\n",
    "\t# cross product of two 3d vectors\n",
    "    return [vec1[1]*vec2[2]-vec1[2]*vec2[1], vec1[2]*vec2[0]-vec1[0]*vec2[2], vec1[0]*vec2[1]-vec1[1]*vec2[0]]\n",
    "\n",
    "def vecAdd(gam1, gam2):\n",
    "\t# add two 3d vectors\n",
    "\treturn [gam1[0]+gam2[0], gam1[1]+gam2[1], gam1[2]+gam2[2]]\n",
    "\n",
    "def pi0Energy(gam1, gam2):\n",
    "\t# reconstructed pi0 energy of two 3d photon momenta\n",
    "\treturn mag(gam1)+mag(gam2)\n",
    "\n",
    "def pi0InvMass(gam1, gam2):\n",
    "\t# pi0 invariant mass of two 3d photon momenta\n",
    "\tpi0mass2 = pi0Energy(gam1, gam2)**2-mag2(vecAdd(gam1, gam2))\n",
    "\tpi0mass2 = np.where(pi0mass2 >= 0, pi0mass2, 10**6)\n",
    "\tpi0mass = np.sqrt(pi0mass2)\n",
    "\tpi0mass = np.where(pi0mass > 100, -1000, pi0mass)\n",
    "\treturn pi0mass\n",
    "\n",
    "def getPhi(vec1):\n",
    "\t# azimuthal angle of one 3d vector\n",
    "\treturn 180/np.pi*np.arctan2(vec1[1], vec1[0])\n",
    "\n",
    "def getTheta(vec1):\n",
    "\t# polar angle of one 3d vector\n",
    "\treturn 180/np.pi*np.arctan2(np.sqrt(vec1[0]*vec1[0]+vec1[1]*vec1[1]), vec1[2])\n",
    "\n",
    "def getEnergy(vec1, mass):\n",
    "\t# for taken 3d momenta p and mass m, return energy = sqrt(p**2 + m**2)\n",
    "\treturn np.sqrt(mag2(vec1)+mass**2)\n",
    "\n",
    "M = 0.938272081 # target mass\n",
    "me = 0.5109989461 * 0.001 # electron mass\n",
    "ebeam = 10.604 # beam energy\n",
    "pbeam = np.sqrt(ebeam * ebeam - me * me) # beam electron momentum\n",
    "beam = [0, 0, pbeam] # beam vector\n",
    "target = [0, 0, 0] # target vector"
   ]
  },
  {
   "cell_type": "code",
   "execution_count": 3,
   "metadata": {},
   "outputs": [],
   "source": [
    "M = 0.938272081\n",
    "me = 0.5109989461 * 0.001\n",
    "ebeam = 10.604\n",
    "pbeam = np.sqrt(ebeam * ebeam - me * me)\n",
    "beam = [0, 0, pbeam]\n",
    "target = [0, 0, 0]"
   ]
  },
  {
   "cell_type": "code",
   "execution_count": 169,
   "metadata": {},
   "outputs": [],
   "source": [
    "data_path = \"/mnt/c/Users/rober/Dropbox/Bobby/Linux/work/CLAS12/mit-clas12-analysis/theana/paragon/dvep/data/2_after_particle_fiducial_cuts/F18_Inbending_FD_SangbaekSkim_0_20210205/F18_Inbending_FD_SangbaekSkim_0_20210205/\"\n"
   ]
  },
  {
   "cell_type": "code",
   "execution_count": 170,
   "metadata": {},
   "outputs": [],
   "source": [
    "# initialize df\n",
    "df_electron = pd.DataFrame()\n",
    "df_proton = pd.DataFrame()\n",
    "df_gamma = pd.DataFrame()"
   ]
  },
  {
   "cell_type": "code",
   "execution_count": 171,
   "metadata": {},
   "outputs": [
    {
     "name": "stdout",
     "output_type": "stream",
     "text": [
      "['skim8_005032_filtered.root', 'skim8_005036_filtered.root', 'skim8_005038_filtered.root', 'skim8_005039_filtered.root', 'skim8_005040_filtered.root', 'skim8_005041_filtered.root', 'skim8_005043_filtered.root', 'skim8_005045_filtered.root', 'skim8_005046_filtered.root', 'skim8_005047_filtered.root', 'skim8_005051_filtered.root', 'skim8_005052_filtered.root', 'skim8_005053_filtered.root', 'skim8_005116_filtered.root', 'skim8_005117_filtered.root', 'skim8_005119_filtered.root', 'skim8_005120_filtered.root', 'skim8_005124_filtered.root', 'skim8_005125_filtered.root', 'skim8_005126_filtered.root', 'skim8_005127_filtered.root', 'skim8_005128_filtered.root', 'skim8_005129_filtered.root', 'skim8_005130_filtered.root', 'skim8_005137_filtered.root', 'skim8_005138_filtered.root', 'skim8_005139_filtered.root', 'skim8_005153_filtered.root', 'skim8_005158_filtered.root', 'skim8_005159_filtered.root', 'skim8_005160_filtered.root', 'skim8_005162_filtered.root', 'skim8_005163_filtered.root', 'skim8_005164_filtered.root', 'skim8_005165_filtered.root', 'skim8_005166_filtered.root', 'skim8_005167_filtered.root', 'skim8_005168_filtered.root', 'skim8_005169_filtered.root', 'skim8_005180_filtered.root', 'skim8_005181_filtered.root', 'skim8_005182_filtered.root', 'skim8_005183_filtered.root', 'skim8_005189_filtered.root', 'skim8_005190_filtered.root', 'skim8_005191_filtered.root', 'skim8_005193_filtered.root', 'skim8_005194_filtered.root', 'skim8_005195_filtered.root', 'skim8_005196_filtered.root', 'skim8_005197_filtered.root', 'skim8_005198_filtered.root', 'skim8_005199_filtered.root', 'skim8_005200_filtered.root', 'skim8_005201_filtered.root', 'skim8_005202_filtered.root', 'skim8_005203_filtered.root', 'skim8_005204_filtered.root', 'skim8_005205_filtered.root', 'skim8_005206_filtered.root', 'skim8_005208_filtered.root', 'skim8_005211_filtered.root', 'skim8_005212_filtered.root', 'skim8_005215_filtered.root', 'skim8_005216_filtered.root', 'skim8_005219_filtered.root', 'skim8_005220_filtered.root', 'skim8_005221_filtered.root', 'skim8_005222_filtered.root', 'skim8_005223_filtered.root', 'skim8_005225_filtered.root', 'skim8_005229_filtered.root', 'skim8_005230_filtered.root', 'skim8_005231_filtered.root', 'skim8_005232_filtered.root', 'skim8_005233_filtered.root', 'skim8_005234_filtered.root', 'skim8_005235_filtered.root', 'skim8_005237_filtered.root', 'skim8_005238_filtered.root', 'skim8_005239_filtered.root', 'skim8_005247_filtered.root', 'skim8_005248_filtered.root', 'skim8_005249_filtered.root', 'skim8_005250_filtered.root', 'skim8_005252_filtered.root', 'skim8_005253_filtered.root', 'skim8_005257_filtered.root', 'skim8_005258_filtered.root', 'skim8_005259_filtered.root', 'skim8_005261_filtered.root', 'skim8_005262_filtered.root', 'skim8_005300_filtered.root', 'skim8_005301_filtered.root', 'skim8_005302_filtered.root', 'skim8_005303_filtered.root', 'skim8_005304_filtered.root', 'skim8_005305_filtered.root', 'skim8_005306_filtered.root', 'skim8_005307_filtered.root', 'skim8_005310_filtered.root', 'skim8_005311_filtered.root', 'skim8_005315_filtered.root', 'skim8_005316_filtered.root', 'skim8_005317_filtered.root', 'skim8_005318_filtered.root', 'skim8_005319_filtered.root', 'skim8_005320_filtered.root', 'skim8_005323_filtered.root', 'skim8_005324_filtered.root', 'skim8_005325_filtered.root', 'skim8_005333_filtered.root', 'skim8_005334_filtered.root', 'skim8_005335_filtered.root', 'skim8_005336_filtered.root', 'skim8_005339_filtered.root', 'skim8_005340_filtered.root', 'skim8_005341_filtered.root', 'skim8_005342_filtered.root', 'skim8_005343_filtered.root', 'skim8_005344_filtered.root', 'skim8_005345_filtered.root', 'skim8_005346_filtered.root', 'skim8_005347_filtered.root', 'skim8_005349_filtered.root', 'skim8_005351_filtered.root', 'skim8_005354_filtered.root', 'skim8_005355_filtered.root', 'skim8_005356_filtered.root', 'skim8_005357_filtered.root', 'skim8_005358_filtered.root', 'skim8_005359_filtered.root', 'skim8_005360_filtered.root', 'skim8_005361_filtered.root', 'skim8_005362_filtered.root', 'skim8_005366_filtered.root', 'skim8_005367_filtered.root', 'skim8_005368_filtered.root', 'skim8_005369_filtered.root', 'skim8_005370_filtered.root', 'skim8_005371_filtered.root', 'skim8_005372_filtered.root', 'skim8_005373_filtered.root', 'skim8_005374_filtered.root', 'skim8_005375_filtered.root', 'skim8_005376_filtered.root', 'skim8_005377_filtered.root', 'skim8_005378_filtered.root', 'skim8_005379_filtered.root', 'skim8_005380_filtered.root', 'skim8_005381_filtered.root', 'skim8_005382_filtered.root', 'skim8_005383_filtered.root', 'skim8_005386_filtered.root', 'skim8_005390_filtered.root', 'skim8_005391_filtered.root', 'skim8_005392_filtered.root', 'skim8_005393_filtered.root', 'skim8_005394_filtered.root', 'skim8_005398_filtered.root', 'skim8_005399_filtered.root', 'skim8_005400_filtered.root', 'skim8_005401_filtered.root', 'skim8_005402_filtered.root', 'skim8_005403_filtered.root', 'skim8_005404_filtered.root', 'skim8_005406_filtered.root', 'skim8_005407_filtered.root', 'skim8_005414_filtered.root', 'skim8_005415_filtered.root', 'skim8_005416_filtered.root', 'skim8_005417_filtered.root', 'skim8_005418_filtered.root', 'skim8_005419_filtered.root']\n"
     ]
    }
   ],
   "source": [
    "file_names = os.listdir(data_path)\n",
    "print(file_names)"
   ]
  },
  {
   "cell_type": "code",
   "execution_count": 172,
   "metadata": {},
   "outputs": [
    {
     "name": "stdout",
     "output_type": "stream",
     "text": [
      "['nmb', 'Pp', 'Ppx', 'Ppy', 'Ppz', 'Ptheta', 'Pphi', 'Pvx', 'Pvy', 'Pvz', 'Pvt', 'Pbeta', 'Pstat', 'PorigIndx', 'nml', 'Ep', 'Epx', 'Epy', 'Epz', 'Etheta', 'Ephi', 'Evx', 'Evy', 'Evz', 'Evt', 'Ebeta', 'Estat', 'EorigIndx', 'nmg', 'Gp', 'Gpx', 'Gpy', 'Gpz', 'Gtheta', 'Gphi', 'Gvx', 'Gvy', 'Gvz', 'Gvt', 'Gbeta', 'Gstat', 'GorigIndx', 'beamQ', 'liveTime', 'startTime', 'RFTime', 'helicity', 'helicityRaw', 'EventNum', 'RunNum', 'Q2', 'Nu', 'q', 'qx', 'qy', 'qz', 'W2', 'xB', 't']\n",
      "['nmb', 'Pp', 'Ppx', 'Ppy', 'Ppz', 'Ptheta', 'Pphi', 'Pvx', 'Pvy', 'Pvz', 'Pvt', 'Pbeta', 'Pstat', 'PorigIndx', 'nml', 'Ep', 'Epx', 'Epy', 'Epz', 'Etheta', 'Ephi', 'Evx', 'Evy', 'Evz', 'Evt', 'Ebeta', 'Estat', 'EorigIndx', 'nmg', 'Gp', 'Gpx', 'Gpy', 'Gpz', 'Gtheta', 'Gphi', 'Gvx', 'Gvy', 'Gvz', 'Gvt', 'Gbeta', 'Gstat', 'GorigIndx', 'beamQ', 'liveTime', 'startTime', 'RFTime', 'helicity', 'helicityRaw', 'EventNum', 'RunNum', 'Q2', 'Nu', 'q', 'qx', 'qy', 'qz', 'W2', 'xB', 't']\n",
      "                     Epx       Epy       Epz       Evz    Etheta      Ephi\n",
      "entry subentry                                                            \n",
      "0     0         0.128060  0.794708  2.058435  0.020737  0.372771  1.411029\n",
      "1     0         0.609048  0.953577  5.935979 -3.554013  0.188354  1.002407\n",
      "2     0        -0.969444 -0.070090  6.233665 -1.064051  0.154678 -3.069418\n",
      "3     0         0.272029  0.575523  1.988892 -4.445016  0.309762  1.129256\n",
      "4     0         0.513050 -0.645339  4.399658 -3.606798  0.185237 -0.899106\n",
      "...                  ...       ...       ...       ...       ...       ...\n",
      "57155 0         0.591130  1.022972  7.913909 -4.363057  0.148198  1.046818\n",
      "57156 0         0.615304 -1.258897  8.077948 -0.946698  0.171753 -1.116177\n",
      "57157 0         0.548618 -0.780266  6.480116 -0.783584  0.146144 -0.957982\n",
      "57158 0        -0.307810 -0.686286  4.631073  0.396530  0.161009 -1.992416\n",
      "57159 0        -0.153188 -0.607261  2.778714 -0.928987  0.221682 -1.817901\n",
      "\n",
      "[114320 rows x 6 columns]\n",
      "                     Ppx       Ppy       Ppz       Pvz  Pstat  PorigIndx  \\\n",
      "entry subentry                                                             \n",
      "0     0        -0.273115 -0.391119  0.455782 -1.669512   4100          0   \n",
      "1     0        -0.610855 -0.041088  2.447428 -4.018821   2210          0   \n",
      "2     0         0.386532  0.103144  0.346167 -1.292403   4100          0   \n",
      "3     0         0.040685  0.282148  0.271698 -6.439954   4100          0   \n",
      "4     0        -0.059559  0.478121  0.828268 -3.791267   2100          0   \n",
      "...                  ...       ...       ...       ...    ...        ...   \n",
      "57155 0        -0.843023 -0.526621  1.867762 -4.518237   2200          0   \n",
      "57156 0        -0.688677  0.363311  1.056418  0.304270   2100          0   \n",
      "57157 0         0.105405  0.594723  1.390162 -4.379842   2230          0   \n",
      "57158 0        -0.030704  0.983409  3.106243 -4.178852   2220          0   \n",
      "57159 0         0.073435 -0.282730  0.846038 -4.343887   2220          0   \n",
      "\n",
      "                  Ptheta      Pphi  \n",
      "entry subentry                      \n",
      "0     0         0.808181 -2.180373  \n",
      "1     0         0.245124 -3.074431  \n",
      "2     0         0.857490  0.260769  \n",
      "3     0         0.809405  1.427585  \n",
      "4     0         0.526866  1.694727  \n",
      "...                  ...       ...  \n",
      "57155 0         0.489061 -2.583222  \n",
      "57156 0         0.635162  2.656150  \n",
      "57157 0         0.409869  1.395384  \n",
      "57158 0         0.306748  1.602008  \n",
      "57159 0         0.332454 -1.316675  \n",
      "\n",
      "[118184 rows x 8 columns]\n",
      "                     Gpx       Gpy       Gpz  Gstat  GorigIndx    Gtheta  \\\n",
      "entry subentry                                                             \n",
      "0     0         0.085952 -0.334371  1.236142   2020          0  0.272350   \n",
      "      1         0.082031 -0.208803  0.415269   2020          0  0.495307   \n",
      "1     0         0.218296 -0.198232  0.598252   2020          0  0.457942   \n",
      "      1         0.105162 -0.026216  0.437452   2010          0  0.242864   \n",
      "2     0        -0.034353  0.133768  0.697854   2020          0  0.195380   \n",
      "...                  ...       ...       ...    ...        ...       ...   \n",
      "57158 0        -0.101463 -0.171937  0.664657   2020          0  0.291796   \n",
      "      1         0.006586  0.067445  0.105263   2010          0  0.571989   \n",
      "57159 0         0.115726  0.203449  0.437291   2130          0  0.491448   \n",
      "      1         0.191338 -0.068104  0.393181   2010          0  0.476799   \n",
      "      2         0.028852  0.100585  0.351145   2130          0  0.289621   \n",
      "\n",
      "                    Gphi  \n",
      "entry subentry            \n",
      "0     0        -1.319189  \n",
      "      1        -1.196458  \n",
      "1     0        -0.737265  \n",
      "      1        -0.244316  \n",
      "2     0         1.822176  \n",
      "...                  ...  \n",
      "57158 0        -2.103917  \n",
      "      1         1.473461  \n",
      "57159 0         1.053620  \n",
      "      1        -0.341952  \n",
      "      2         1.291452  \n",
      "\n",
      "[321926 rows x 7 columns]\n"
     ]
    }
   ],
   "source": [
    "#for key in [\"RunNum\",\"EventNum\",'helicity','helicityRaw',\"beamQ\",\"Epx\", \"Epy\", \"Epz\", \"Evz\", \"Etheta\",\"Ephi\"]:\n",
    "#    df_electron[key] = tree[key].array(library=\"pd\")\n",
    "\n",
    "\n",
    "file_names = [\"skim8_005032_filtered.root\",\"skim8_005032_filtered.root\"]\n",
    "\n",
    "dfs_e = []\n",
    "dfs_p = []\n",
    "dfs_g = []\n",
    "\n",
    "for file_name in file_names:\n",
    "    df_electron0 = pd.DataFrame()\n",
    "    df_proton0 = pd.DataFrame()\n",
    "    df_gamma0 = pd.DataFrame()\n",
    "    df_logi = pd.DataFrame()\n",
    "    \n",
    "    file = uproot.open(data_path + file_name)\n",
    "\n",
    "    tree = file[\"T\"]   \n",
    "    print(tree.keys())\n",
    "\n",
    "    for key in [\"Epx\", \"Epy\", \"Epz\", \"Evz\", \"Etheta\",\"Ephi\"]:\n",
    "        df_electron0[key] = tree[key].array(library=\"pd\")\n",
    "\n",
    "    for key in [\"Ppx\", \"Ppy\", \"Ppz\", \"Pvz\", \"Pstat\", \"PorigIndx\", \"Ptheta\",\"Pphi\"]:\n",
    "        df_proton0[key] = tree[key].array(library=\"pd\")\n",
    "\n",
    "\n",
    "    for key in [\"Gpx\", \"Gpy\", \"Gpz\", \"Gstat\", \"GorigIndx\", \"Gtheta\",\"Gphi\"]:\n",
    "        df_gamma0[key] = tree[key].array(library=\"pd\")\n",
    "        \n",
    "    logistics = [\"RunNum\", \"EventNum\", \"beamQ\", \"helicity\"]\n",
    "    for key in logistics:\n",
    "        df_logi[key] = tree[key].array(library=\"pd\")\n",
    "        \n",
    "    \n",
    "    dfs_e.append(df_electron0)\n",
    "    dfs_p.append(df_proton0)\n",
    "    dfs_g.append(df_gamma0)\n",
    "    \n",
    "df_electron = pd.concat(dfs_e)\n",
    "df_proton = pd.concat(dfs_p)\n",
    "df_gamma = pd.concat(dfs_g)\n",
    "\n",
    "    \n",
    "print(df_electron)\n",
    "print(df_proton)\n",
    "print(df_gamma)\n"
   ]
  },
  {
   "cell_type": "code",
   "execution_count": null,
   "metadata": {},
   "outputs": [],
   "source": []
  },
  {
   "cell_type": "code",
   "execution_count": 173,
   "metadata": {},
   "outputs": [],
   "source": [
    "# change the data type to double, Sangbaek knows why\n",
    "df_electron = df_electron.astype({\"Epx\": float, \"Epy\": float, \"Epz\": float})\n",
    "df_proton = df_proton.astype({\"Ppx\": float, \"Ppy\": float, \"Ppz\": float})\n",
    "df_gamma = df_gamma.astype({\"Gpx\": float, \"Gpy\": float, \"Gpz\": float})"
   ]
  },
  {
   "cell_type": "code",
   "execution_count": 174,
   "metadata": {},
   "outputs": [],
   "source": [
    "#Get proper indexing before merging\n",
    "df_electron['event'] = df_electron.index.get_level_values('entry')\n",
    "df_proton['event'] = df_proton.index.get_level_values('entry')\n",
    "df_gamma['event'] = df_gamma.index.get_level_values('entry')\n",
    "df_gamma['GSubIndex'] = df_gamma.index.get_level_values('subentry')\n"
   ]
  },
  {
   "cell_type": "code",
   "execution_count": 175,
   "metadata": {},
   "outputs": [
    {
     "name": "stdout",
     "output_type": "stream",
     "text": [
      "                     Gpx       Gpy       Gpz  Gstat  GorigIndx    Gtheta  \\\n",
      "entry subentry                                                             \n",
      "0     0         0.085952 -0.334371  1.236142   2020          0  0.272350   \n",
      "      1         0.082031 -0.208803  0.415269   2020          0  0.495307   \n",
      "1     0         0.218296 -0.198232  0.598252   2020          0  0.457942   \n",
      "      1         0.105162 -0.026216  0.437452   2010          0  0.242864   \n",
      "2     0        -0.034353  0.133768  0.697854   2020          0  0.195380   \n",
      "...                  ...       ...       ...    ...        ...       ...   \n",
      "57158 0        -0.101463 -0.171937  0.664657   2020          0  0.291796   \n",
      "      1         0.006586  0.067445  0.105263   2010          0  0.571989   \n",
      "57159 0         0.115726  0.203449  0.437291   2130          0  0.491448   \n",
      "      1         0.191338 -0.068104  0.393181   2010          0  0.476799   \n",
      "      2         0.028852  0.100585  0.351145   2130          0  0.289621   \n",
      "\n",
      "                    Gphi  event  GSubIndex  \n",
      "entry subentry                              \n",
      "0     0        -1.319189      0          0  \n",
      "      1        -1.196458      0          1  \n",
      "1     0        -0.737265      1          0  \n",
      "      1        -0.244316      1          1  \n",
      "2     0         1.822176      2          0  \n",
      "...                  ...    ...        ...  \n",
      "57158 0        -2.103917  57158          0  \n",
      "      1         1.473461  57158          1  \n",
      "57159 0         1.053620  57159          0  \n",
      "      1        -0.341952  57159          1  \n",
      "      2         1.291452  57159          2  \n",
      "\n",
      "[321926 rows x 9 columns]\n"
     ]
    }
   ],
   "source": [
    "#df_gamma = df_gamma.head(10)\n",
    "#df_proton = df_proton.head(10)\n",
    "#df_electron = df\n",
    "print(df_gamma)\n"
   ]
  },
  {
   "cell_type": "code",
   "execution_count": 176,
   "metadata": {},
   "outputs": [],
   "source": [
    "df_gg = pd.merge(df_gamma, df_gamma,\n",
    "    how='outer', on='event', suffixes=(\"\", \"2\"))\n",
    "df_gg = df_gg[df_gg[\"GSubIndex\"] < df_gg[\"GSubIndex2\"]]"
   ]
  },
  {
   "cell_type": "code",
   "execution_count": 177,
   "metadata": {},
   "outputs": [
    {
     "name": "stdout",
     "output_type": "stream",
     "text": [
      "              Gpx       Gpy       Gpz  Gstat  GorigIndx    Gtheta      Gphi  \\\n",
      "1        0.085952 -0.334371  1.236142   2020          0  0.272350 -1.319189   \n",
      "3        0.085952 -0.334371  1.236142   2020          0  0.272350 -1.319189   \n",
      "9        0.085952 -0.334371  1.236142   2020          0  0.272350 -1.319189   \n",
      "11       0.085952 -0.334371  1.236142   2020          0  0.272350 -1.319189   \n",
      "17       0.218296 -0.198232  0.598252   2020          0  0.457942 -0.737265   \n",
      "...           ...       ...       ...    ...        ...       ...       ...   \n",
      "2143364  0.115726  0.203449  0.437291   2130          0  0.491448  1.053620   \n",
      "2143366  0.115726  0.203449  0.437291   2130          0  0.491448  1.053620   \n",
      "2143367  0.115726  0.203449  0.437291   2130          0  0.491448  1.053620   \n",
      "2143370  0.191338 -0.068104  0.393181   2010          0  0.476799 -0.341952   \n",
      "2143373  0.191338 -0.068104  0.393181   2010          0  0.476799 -0.341952   \n",
      "\n",
      "         event  GSubIndex      Gpx2      Gpy2      Gpz2  Gstat2  GorigIndx2  \\\n",
      "1            0          0  0.082031 -0.208803  0.415269    2020           0   \n",
      "3            0          0  0.082031 -0.208803  0.415269    2020           0   \n",
      "9            0          0  0.082031 -0.208803  0.415269    2020           0   \n",
      "11           0          0  0.082031 -0.208803  0.415269    2020           0   \n",
      "17           1          0  0.105162 -0.026216  0.437452    2010           0   \n",
      "...        ...        ...       ...       ...       ...     ...         ...   \n",
      "2143364  57159          0  0.028852  0.100585  0.351145    2130           0   \n",
      "2143366  57159          0  0.191338 -0.068104  0.393181    2010           0   \n",
      "2143367  57159          0  0.028852  0.100585  0.351145    2130           0   \n",
      "2143370  57159          1  0.028852  0.100585  0.351145    2130           0   \n",
      "2143373  57159          1  0.028852  0.100585  0.351145    2130           0   \n",
      "\n",
      "          Gtheta2     Gphi2  GSubIndex2  \n",
      "1        0.495307 -1.196458           1  \n",
      "3        0.495307 -1.196458           1  \n",
      "9        0.495307 -1.196458           1  \n",
      "11       0.495307 -1.196458           1  \n",
      "17       0.242864 -0.244316           1  \n",
      "...           ...       ...         ...  \n",
      "2143364  0.289621  1.291452           2  \n",
      "2143366  0.476799 -0.341952           1  \n",
      "2143367  0.289621  1.291452           2  \n",
      "2143370  0.289621  1.291452           2  \n",
      "2143373  0.289621  1.291452           2  \n",
      "\n",
      "[749764 rows x 17 columns]\n"
     ]
    }
   ],
   "source": [
    "print(df_gg)"
   ]
  },
  {
   "cell_type": "code",
   "execution_count": 178,
   "metadata": {},
   "outputs": [],
   "source": [
    "#Now new indexing, which conserves event number information at \"event\" column\n",
    "df_ep = pd.merge(df_electron, df_proton, how='outer', on='event')\n",
    "df_epg = pd.merge(df_ep, df_gamma, how='outer', on='event')\n",
    "df_epgg = pd.merge(df_ep, df_gg, how='outer', on='event')\n",
    "df_epgg = df_epgg[~np.isnan(df_epgg[\"Gpx\"])]"
   ]
  },
  {
   "cell_type": "code",
   "execution_count": null,
   "metadata": {},
   "outputs": [],
   "source": []
  },
  {
   "cell_type": "code",
   "execution_count": 179,
   "metadata": {},
   "outputs": [
    {
     "name": "stdout",
     "output_type": "stream",
     "text": [
      "              Epx       Epy       Epz       Evz    Etheta      Ephi  event  \\\n",
      "0        0.128060  0.794708  2.058435  0.020737  0.372771  1.411029      0   \n",
      "1        0.128060  0.794708  2.058435  0.020737  0.372771  1.411029      0   \n",
      "2        0.128060  0.794708  2.058435  0.020737  0.372771  1.411029      0   \n",
      "3        0.128060  0.794708  2.058435  0.020737  0.372771  1.411029      0   \n",
      "4        0.128060  0.794708  2.058435  0.020737  0.372771  1.411029      0   \n",
      "...           ...       ...       ...       ...       ...       ...    ...   \n",
      "3096651 -0.153188 -0.607261  2.778714 -0.928987  0.221682 -1.817901  57159   \n",
      "3096652 -0.153188 -0.607261  2.778714 -0.928987  0.221682 -1.817901  57159   \n",
      "3096653 -0.153188 -0.607261  2.778714 -0.928987  0.221682 -1.817901  57159   \n",
      "3096654 -0.153188 -0.607261  2.778714 -0.928987  0.221682 -1.817901  57159   \n",
      "3096655 -0.153188 -0.607261  2.778714 -0.928987  0.221682 -1.817901  57159   \n",
      "\n",
      "              Ppx       Ppy       Ppz  ...      Gphi  GSubIndex      Gpx2  \\\n",
      "0       -0.273115 -0.391119  0.455782  ... -1.319189          0  0.082031   \n",
      "1       -0.273115 -0.391119  0.455782  ... -1.319189          0  0.082031   \n",
      "2       -0.273115 -0.391119  0.455782  ... -1.319189          0  0.082031   \n",
      "3       -0.273115 -0.391119  0.455782  ... -1.319189          0  0.082031   \n",
      "4       -0.273115 -0.391119  0.455782  ... -1.319189          0  0.082031   \n",
      "...           ...       ...       ...  ...       ...        ...       ...   \n",
      "3096651  0.073435 -0.282730  0.846038  ...  1.053620          0  0.028852   \n",
      "3096652  0.073435 -0.282730  0.846038  ...  1.053620          0  0.191338   \n",
      "3096653  0.073435 -0.282730  0.846038  ...  1.053620          0  0.028852   \n",
      "3096654  0.073435 -0.282730  0.846038  ... -0.341952          1  0.028852   \n",
      "3096655  0.073435 -0.282730  0.846038  ... -0.341952          1  0.028852   \n",
      "\n",
      "             Gpy2      Gpz2  Gstat2  GorigIndx2   Gtheta2     Gphi2  \\\n",
      "0       -0.208803  0.415269    2020           0  0.495307 -1.196458   \n",
      "1       -0.208803  0.415269    2020           0  0.495307 -1.196458   \n",
      "2       -0.208803  0.415269    2020           0  0.495307 -1.196458   \n",
      "3       -0.208803  0.415269    2020           0  0.495307 -1.196458   \n",
      "4       -0.208803  0.415269    2020           0  0.495307 -1.196458   \n",
      "...           ...       ...     ...         ...       ...       ...   \n",
      "3096651  0.100585  0.351145    2130           0  0.289621  1.291452   \n",
      "3096652 -0.068104  0.393181    2010           0  0.476799 -0.341952   \n",
      "3096653  0.100585  0.351145    2130           0  0.289621  1.291452   \n",
      "3096654  0.100585  0.351145    2130           0  0.289621  1.291452   \n",
      "3096655  0.100585  0.351145    2130           0  0.289621  1.291452   \n",
      "\n",
      "         GSubIndex2  \n",
      "0                 1  \n",
      "1                 1  \n",
      "2                 1  \n",
      "3                 1  \n",
      "4                 1  \n",
      "...             ...  \n",
      "3096651           2  \n",
      "3096652           1  \n",
      "3096653           2  \n",
      "3096654           2  \n",
      "3096655           2  \n",
      "\n",
      "[3096656 rows x 31 columns]\n"
     ]
    }
   ],
   "source": [
    "print(df_epgg)"
   ]
  },
  {
   "cell_type": "code",
   "execution_count": null,
   "metadata": {},
   "outputs": [],
   "source": []
  },
  {
   "cell_type": "code",
   "execution_count": 180,
   "metadata": {},
   "outputs": [],
   "source": [
    "#cuts on vertex\n",
    "df_epg=df_epg[np.abs(df_epg[\"Evz\"]-df_epg[\"Pvz\"])<2.5+2.5/mag([df_epg[\"Epx\"],df_epg[\"Epy\"],df_epg[\"Epz\"]])]\n",
    "df_epgg=df_epgg[np.abs(df_epgg[\"Evz\"]-df_epgg[\"Pvz\"])<2.5+2.5/mag([df_epgg[\"Epx\"],df_epgg[\"Epy\"],df_epgg[\"Epz\"]])]"
   ]
  },
  {
   "cell_type": "code",
   "execution_count": 181,
   "metadata": {},
   "outputs": [
    {
     "name": "stdout",
     "output_type": "stream",
     "text": [
      "              Epx       Epy       Epz       Evz    Etheta      Ephi  event  \\\n",
      "0        0.128060  0.794708  2.058435  0.020737  0.372771  1.411029      0   \n",
      "1        0.128060  0.794708  2.058435  0.020737  0.372771  1.411029      0   \n",
      "2        0.128060  0.794708  2.058435  0.020737  0.372771  1.411029      0   \n",
      "3        0.128060  0.794708  2.058435  0.020737  0.372771  1.411029      0   \n",
      "4        0.128060  0.794708  2.058435  0.020737  0.372771  1.411029      0   \n",
      "...           ...       ...       ...       ...       ...       ...    ...   \n",
      "3096571  0.615304 -1.258897  8.077948 -0.946698  0.171753 -1.116177  57156   \n",
      "3096572  0.615304 -1.258897  8.077948 -0.946698  0.171753 -1.116177  57156   \n",
      "3096573  0.615304 -1.258897  8.077948 -0.946698  0.171753 -1.116177  57156   \n",
      "3096574  0.615304 -1.258897  8.077948 -0.946698  0.171753 -1.116177  57156   \n",
      "3096575  0.615304 -1.258897  8.077948 -0.946698  0.171753 -1.116177  57156   \n",
      "\n",
      "              Ppx       Ppy       Ppz  ...      Gphi  GSubIndex      Gpx2  \\\n",
      "0       -0.273115 -0.391119  0.455782  ... -1.319189          0  0.082031   \n",
      "1       -0.273115 -0.391119  0.455782  ... -1.319189          0  0.082031   \n",
      "2       -0.273115 -0.391119  0.455782  ... -1.319189          0  0.082031   \n",
      "3       -0.273115 -0.391119  0.455782  ... -1.319189          0  0.082031   \n",
      "4       -0.273115 -0.391119  0.455782  ... -1.319189          0  0.082031   \n",
      "...           ...       ...       ...  ...       ...        ...       ...   \n",
      "3096571 -0.688677  0.363311  1.056418  ...  1.379551          0 -0.030332   \n",
      "3096572 -0.688677  0.363311  1.056418  ...  1.379551          0 -0.030332   \n",
      "3096573 -0.688677  0.363311  1.056418  ...  1.379551          0 -0.030332   \n",
      "3096574 -0.688677  0.363311  1.056418  ...  1.379551          0 -0.030332   \n",
      "3096575 -0.688677  0.363311  1.056418  ...  1.379551          0 -0.030332   \n",
      "\n",
      "             Gpy2      Gpz2  Gstat2  GorigIndx2   Gtheta2     Gphi2  \\\n",
      "0       -0.208803  0.415269    2020           0  0.495307 -1.196458   \n",
      "1       -0.208803  0.415269    2020           0  0.495307 -1.196458   \n",
      "2       -0.208803  0.415269    2020           0  0.495307 -1.196458   \n",
      "3       -0.208803  0.415269    2020           0  0.495307 -1.196458   \n",
      "4       -0.208803  0.415269    2020           0  0.495307 -1.196458   \n",
      "...           ...       ...     ...         ...       ...       ...   \n",
      "3096571  0.340795  0.514883    2110           0  0.586504  1.659566   \n",
      "3096572  0.340795  0.514883    2110           0  0.586504  1.659566   \n",
      "3096573  0.340795  0.514883    2110           0  0.586504  1.659566   \n",
      "3096574  0.340795  0.514883    2110           0  0.586504  1.659566   \n",
      "3096575  0.340795  0.514883    2110           0  0.586504  1.659566   \n",
      "\n",
      "         GSubIndex2  \n",
      "0                 1  \n",
      "1                 1  \n",
      "2                 1  \n",
      "3                 1  \n",
      "4                 1  \n",
      "...             ...  \n",
      "3096571           1  \n",
      "3096572           1  \n",
      "3096573           1  \n",
      "3096574           1  \n",
      "3096575           1  \n",
      "\n",
      "[2442784 rows x 31 columns]\n"
     ]
    }
   ],
   "source": [
    "print(df_epgg)"
   ]
  },
  {
   "cell_type": "code",
   "execution_count": 182,
   "metadata": {},
   "outputs": [],
   "source": [
    "\n",
    "# basic particle energies\n",
    "df_epgg['Ee'] = np.sqrt(me**2 + df_epgg[\"Epx\"]**2 + df_epgg[\"Epy\"]**2 + df_epgg[\"Epz\"]**2)\n",
    "df_epgg['Pe'] = np.sqrt(M**2 + df_epgg[\"Ppx\"]**2 + df_epgg[\"Ppy\"]**2 + df_epgg[\"Ppz\"]**2)\n",
    "df_epgg['Ge'] = np.sqrt(df_epgg[\"Gpx\"]**2 + df_epgg[\"Gpy\"]**2 + df_epgg[\"Gpz\"]**2)\n",
    "df_epgg['Ge2'] = np.sqrt(df_epgg[\"Gpx2\"]**2 + df_epgg[\"Gpy2\"]**2 + df_epgg[\"Gpz2\"]**2)"
   ]
  },
  {
   "cell_type": "code",
   "execution_count": 195,
   "metadata": {},
   "outputs": [],
   "source": [
    "# useful objects\n",
    "ele = [df_epgg['Epx'], df_epgg['Epy'], df_epgg['Epz']]\n",
    "pro = [df_epgg['Ppx'], df_epgg['Ppy'], df_epgg['Ppz']]\n",
    "gam = [df_epgg['Gpx'], df_epgg['Gpy'], df_epgg['Gpz']]\n",
    "gam2 = [df_epgg['Gpx2'], df_epgg['Gpy2'], df_epgg['Gpz2']]\n",
    "pi0 = vecAdd(gam, gam2)\n",
    "VGS = [-df_epgg['Epx'], -df_epgg['Epy'], pbeam - df_epgg['Epz']]\n",
    "v3l = cross(beam, ele)\n",
    "v3h = cross(pro, VGS)\n",
    "v3g = cross(VGS, gam)\n",
    "VmissPi0 = [-df_epgg[\"Epx\"] - df_epgg[\"Ppx\"], -df_epgg[\"Epy\"] -\n",
    "            df_epgg[\"Ppy\"], pbeam - df_epgg[\"Epz\"] - df_epgg[\"Ppz\"]]\n",
    "Vmiss = [-df_epgg[\"Epx\"] - df_epgg[\"Ppx\"] - df_epgg[\"Gpx\"] - df_epgg[\"Gpx2\"],\n",
    "            -df_epgg[\"Epy\"] - df_epgg[\"Ppy\"] - df_epgg[\"Gpy\"] - df_epgg[\"Gpy2\"],\n",
    "            pbeam - df_epgg[\"Epz\"] - df_epgg[\"Ppz\"] - df_epgg[\"Gpz\"] - df_epgg[\"Gpz2\"]]\n",
    "VmissP = [-df_epgg[\"Epx\"] - df_epgg[\"Gpx\"] - df_epgg[\"Gpx2\"],\n",
    "            -df_epgg[\"Epy\"] - df_epgg[\"Gpy\"] - df_epgg[\"Gpy2\"],\n",
    "            pbeam - df_epgg[\"Epz\"] - df_epgg[\"Gpz\"] - df_epgg[\"Gpz2\"]]"
   ]
  },
  {
   "cell_type": "code",
   "execution_count": 197,
   "metadata": {},
   "outputs": [],
   "source": [
    "\n",
    "# binning kinematics\n",
    "df_epgg['Q2'] = -((ebeam - df_epgg['Ee'])**2 - mag2(VGS))\n",
    "df_epgg['nu'] = (ebeam - df_epgg['Ee'])\n",
    "df_epgg['xB'] = df_epgg['Q2'] / 2.0 / M / df_epgg['nu']\n",
    "df_epgg['W'] = np.sqrt((ebeam + M - df_epgg['Ee'])**2 - mag2(VGS))\n",
    "#df_epgg['MPt'] = np.sqrt((df_epgg[\"Epx\"] + df_epgg[\"Ppx\"] + df_epgg[\"Gpx\"] + df_epgg[\"Gpx2\"])**2 +\n",
    "#                        (df_epgg[\"Epy\"] + df_epgg[\"Ppy\"] + df_epgg[\"Gpy\"] + df_epgg[\"Gpy2\"])**2)"
   ]
  },
  {
   "cell_type": "code",
   "execution_count": 194,
   "metadata": {},
   "outputs": [
    {
     "name": "stdout",
     "output_type": "stream",
     "text": [
      "              Epx       Epy       Epz       Evz    Etheta      Ephi  event  \\\n",
      "0        0.128060  0.794708  2.058435  0.020737  0.372771  1.411029      0   \n",
      "1        0.128060  0.794708  2.058435  0.020737  0.372771  1.411029      0   \n",
      "2        0.128060  0.794708  2.058435  0.020737  0.372771  1.411029      0   \n",
      "3        0.128060  0.794708  2.058435  0.020737  0.372771  1.411029      0   \n",
      "4        0.128060  0.794708  2.058435  0.020737  0.372771  1.411029      0   \n",
      "...           ...       ...       ...       ...       ...       ...    ...   \n",
      "3096571  0.615304 -1.258897  8.077948 -0.946698  0.171753 -1.116177  57156   \n",
      "3096572  0.615304 -1.258897  8.077948 -0.946698  0.171753 -1.116177  57156   \n",
      "3096573  0.615304 -1.258897  8.077948 -0.946698  0.171753 -1.116177  57156   \n",
      "3096574  0.615304 -1.258897  8.077948 -0.946698  0.171753 -1.116177  57156   \n",
      "3096575  0.615304 -1.258897  8.077948 -0.946698  0.171753 -1.116177  57156   \n",
      "\n",
      "              Ppx       Ppy       Ppz  ...         W       MPt    MM2_ep  \\\n",
      "0       -0.273115 -0.391119  0.455782  ...  3.662291  0.141456  1.366060   \n",
      "1       -0.273115 -0.391119  0.455782  ...  3.662291  0.141456  1.366060   \n",
      "2       -0.273115 -0.391119  0.455782  ...  3.662291  0.141456  1.366060   \n",
      "3       -0.273115 -0.391119  0.455782  ...  3.662291  0.141456  1.366060   \n",
      "4       -0.273115 -0.391119  0.455782  ...  3.662291  0.141456  1.366060   \n",
      "...           ...       ...       ...  ...       ...       ...       ...   \n",
      "3096571 -0.688677  0.363311  1.056418  ...  1.684025  0.119814  0.027086   \n",
      "3096572 -0.688677  0.363311  1.056418  ...  1.684025  0.119814  0.027086   \n",
      "3096573 -0.688677  0.363311  1.056418  ...  1.684025  0.119814  0.027086   \n",
      "3096574 -0.688677  0.363311  1.056418  ...  1.684025  0.119814  0.027086   \n",
      "3096575 -0.688677  0.363311  1.056418  ...  1.684025  0.119814  0.027086   \n",
      "\n",
      "          MM2_egg  MM2_epgg   ME_epgg      Mpi0   reconPi       Pie  sintheta  \n",
      "0        9.724638 -0.133123  6.429582  0.176504  15.96689  1.755439  0.225315  \n",
      "1        9.724638 -0.133123  6.429582  0.176504  15.96689  1.755439  0.225315  \n",
      "2        9.724638 -0.133123  6.429582  0.176504  15.96689  1.755439  0.225315  \n",
      "3        9.724638 -0.133123  6.429582  0.176504  15.96689  1.755439  0.225315  \n",
      "4        9.724638 -0.133123  6.429582  0.176504  15.96689  1.755439  0.225315  \n",
      "...           ...       ...       ...       ...       ...       ...       ...  \n",
      "3096571  1.171204  0.001492  0.248183  0.113926   0.52477  1.482241  0.155406  \n",
      "3096572  1.171204  0.001492  0.248183  0.113926   0.52477  1.482241  0.155406  \n",
      "3096573  1.171204  0.001492  0.248183  0.113926   0.52477  1.482241  0.155406  \n",
      "3096574  1.171204  0.001492  0.248183  0.113926   0.52477  1.482241  0.155406  \n",
      "3096575  1.171204  0.001492  0.248183  0.113926   0.52477  1.482241  0.155406  \n",
      "\n",
      "[2442784 rows x 48 columns]\n"
     ]
    }
   ],
   "source": [
    "print(df_epgg)"
   ]
  },
  {
   "cell_type": "code",
   "execution_count": 186,
   "metadata": {},
   "outputs": [],
   "source": [
    "# exclusivity variables\n",
    "df_epgg['MM2_ep'] = (-M - ebeam + df_epgg[\"Ee\"] +\n",
    "                     df_epgg[\"Pe\"])**2 - mag2(VmissPi0)\n",
    "df_epgg['MM2_egg'] = (-M - ebeam + df_epgg[\"Ee\"] +\n",
    "                     df_epgg[\"Ge\"] + df_epgg[\"Ge2\"])**2 - mag2(VmissP)\n",
    "df_epgg['MM2_epgg'] = (-M - ebeam + df_epgg[\"Ee\"] +\n",
    "                     df_epgg[\"Pe\"] + df_epgg[\"Ge\"] + df_epgg[\"Ge2\"])**2 - mag2(Vmiss)\n",
    "df_epgg['ME_epgg'] = (M + ebeam - df_epgg[\"Ee\"] - df_epgg[\"Pe\"] - df_epgg[\"Ge\"] - df_epgg[\"Ge2\"])\n",
    "df_epgg['Mpi0'] = pi0InvMass(gam, gam2)\n",
    "df_epgg['reconPi'] = angle(VmissPi0, pi0)\n",
    "df_epgg[\"Pie\"] = df_epgg['Ge'] + df_epgg['Ge2']\n",
    "df_epgg[\"sintheta\"] = np.sin(np.pi/180.*angle(gam, gam2))"
   ]
  },
  {
   "cell_type": "code",
   "execution_count": 187,
   "metadata": {},
   "outputs": [],
   "source": [
    "\n",
    "#\tKinematic cuts\n",
    "#   xB>0 && xB<1 && W>2 && Q2>1 && VE.e()>2 && VG1.e() > 2 && VP.p() > 0.12\n",
    "cut_pFD = df_epgg[\"Pstat\"] < 4000  # FD\n",
    "cut_pCD = df_epgg[\"Pstat\"] > 4000  # CD\n",
    "cut_gFD = df_epgg[\"Gstat\"] > 2000  # FD\n",
    "cut_gFT = df_epgg[\"Gstat\"] < 2000  # FT\n",
    "cut_g2FD = df_epgg[\"Gstat2\"] > 2000  # FD\n",
    "cut_g2FT = df_epgg[\"Gstat2\"] < 2000  # FT\n",
    "cut_FTFT = cut_gFT & cut_g2FT\n",
    "cut_FDFT = cut_gFD & cut_g2FT\n",
    "cut_FTFD = cut_gFT & cut_g2FD\n",
    "cut_FDFD = cut_gFD & cut_g2FD\n",
    "cut_xBupper = df_epgg[\"xB\"] < 1  # xB\n",
    "cut_xBlower = df_epgg[\"xB\"] > 0  # xB\n",
    "cut_Q2 = df_epgg[\"Q2\"] > 1  # Q2\n",
    "cut_W = df_epgg[\"W\"] > 2  # W"
   ]
  },
  {
   "cell_type": "code",
   "execution_count": 188,
   "metadata": {},
   "outputs": [],
   "source": [
    "#\tExclusivity cuts\n",
    "cut_mmep = df_epgg[\"MM2_ep\"] < 0.7  # mmep\n",
    "cut_meepgg = df_epgg[\"ME_epgg\"] < 0.7  # meepgg\n",
    "cut_mpt = df_epgg[\"MPt\"] < 0.2  # mpt\n",
    "cut_recon = df_epgg[\"reconPi\"] < 2  # recon gam angle\n",
    "cut_pi0upper = df_epgg[\"Mpi0\"] < 0.2\n",
    "cut_pi0lower = df_epgg[\"Mpi0\"] > 0.07\n",
    "cut_pi0energy = 1#(df_epgg[\"Pie\"] > 2) & (df_epgg[\"Pie\"] <4)\n",
    "# cut_maxE = 1#df_epgg[[\"Ge\", \"Ge2\"]].max(1) > 2\n",
    "cut_minE = 1#df_epgg[[\"Ge\", \"Ge2\"]].min(1) > 1\n",
    "#cut_sector = (df_epgg[\"Esector\"]!=df_epgg[\"Gsector\"]) & (df_epgg[\"Esector\"]!=df_epgg[\"Gsector2\"])"
   ]
  },
  {
   "cell_type": "code",
   "execution_count": 189,
   "metadata": {},
   "outputs": [
    {
     "name": "stdout",
     "output_type": "stream",
     "text": [
      "4176\n"
     ]
    }
   ],
   "source": [
    "df_dvpi0 = df_epgg[ cut_xBupper & cut_xBlower & cut_Q2 & cut_W & cut_mmep & cut_meepgg &\n",
    "                   cut_mpt & cut_recon & cut_pi0upper & cut_pi0lower & cut_minE & cut_pi0energy]\n",
    "# df_dvpi0.loc[:, \"Mpi0\"] = df_dvpi0[\"Mpi0\"]/0.1349768\n",
    "print(len(df_dvpi0))\n",
    "mpi0_edges = np.linspace(0.5, 1.5, 101)\n",
    "# df_dvpi0.loc[:,\"Mpi0\"]"
   ]
  },
  {
   "cell_type": "code",
   "execution_count": 190,
   "metadata": {},
   "outputs": [
    {
     "name": "stdout",
     "output_type": "stream",
     "text": [
      "              Epx       Epy       Epz       Evz    Etheta      Ephi  event  \\\n",
      "3280    -0.929717 -0.191156  5.264612 -2.347387  0.178375 -2.938812     62   \n",
      "3281    -0.929717 -0.191156  5.264612 -2.347387  0.178375 -2.938812     62   \n",
      "3282    -0.929717 -0.191156  5.264612 -2.347387  0.178375 -2.938812     62   \n",
      "3283    -0.929717 -0.191156  5.264612 -2.347387  0.178375 -2.938812     62   \n",
      "3284    -0.929717 -0.191156  5.264612 -2.347387  0.178375 -2.938812     62   \n",
      "...           ...       ...       ...       ...       ...       ...    ...   \n",
      "3094352 -0.178679 -0.458861  1.626655 -2.192939  0.293951 -1.942129  57114   \n",
      "3094361 -0.178679 -0.458861  1.626655 -2.192939  0.293951 -1.942129  57114   \n",
      "3094364 -0.178679 -0.458861  1.626655 -2.192939  0.293951 -1.942129  57114   \n",
      "3094373 -0.178679 -0.458861  1.626655 -2.192939  0.293951 -1.942129  57114   \n",
      "3094376 -0.178679 -0.458861  1.626655 -2.192939  0.293951 -1.942129  57114   \n",
      "\n",
      "              Ppx       Ppy       Ppz  ...         W       MPt    MM2_ep  \\\n",
      "3280     0.233766  0.161033  0.200473  ...  2.990077  0.050635  0.065446   \n",
      "3281     0.233766  0.161033  0.200473  ...  2.990077  0.050635  0.065446   \n",
      "3282     0.233766  0.161033  0.200473  ...  2.990077  0.050635  0.065446   \n",
      "3283     0.233766  0.161033  0.200473  ...  2.990077  0.050635  0.065446   \n",
      "3284     0.233766  0.161033  0.200473  ...  2.990077  0.050635  0.065446   \n",
      "...           ...       ...       ...  ...       ...       ...       ...   \n",
      "3094352  0.545616 -0.084532  0.296428  ...  4.005481  0.044718  0.152784   \n",
      "3094361  0.545616 -0.084532  0.296428  ...  4.005481  0.044718  0.152784   \n",
      "3094364  0.545616 -0.084532  0.296428  ...  4.005481  0.044718  0.152784   \n",
      "3094373  0.545616 -0.084532  0.296428  ...  4.005481  0.044718  0.152784   \n",
      "3094376  0.545616 -0.084532  0.296428  ...  4.005481  0.044718  0.152784   \n",
      "\n",
      "          MM2_egg  MM2_epgg   ME_epgg      Mpi0   reconPi       Pie  sintheta  \n",
      "3280     1.241995  0.001913  0.238577  0.116755  0.230213  4.953644  0.068439  \n",
      "3281     1.241995  0.001913  0.238577  0.116755  0.230213  4.953644  0.068439  \n",
      "3282     1.241995  0.001913  0.238577  0.116755  0.230213  4.953644  0.068439  \n",
      "3283     1.241995  0.001913  0.238577  0.116755  0.230213  4.953644  0.068439  \n",
      "3284     1.241995  0.001913  0.238577  0.116755  0.230213  4.953644  0.068439  \n",
      "...           ...       ...       ...       ...       ...       ...       ...  \n",
      "3094352  1.084600 -0.000575  0.099236  0.120523  0.302171  8.615179  0.074365  \n",
      "3094361  1.084600 -0.000575  0.099236  0.120523  0.302171  8.615179  0.074365  \n",
      "3094364  1.084600 -0.000575  0.099236  0.120523  0.302171  8.615179  0.074365  \n",
      "3094373  1.084600 -0.000575  0.099236  0.120523  0.302171  8.615179  0.074365  \n",
      "3094376  1.084600 -0.000575  0.099236  0.120523  0.302171  8.615179  0.074365  \n",
      "\n",
      "[4176 rows x 48 columns]\n"
     ]
    }
   ],
   "source": [
    "print(df_dvpi0)"
   ]
  },
  {
   "cell_type": "code",
   "execution_count": 191,
   "metadata": {},
   "outputs": [
    {
     "name": "stdout",
     "output_type": "stream",
     "text": [
      "4176\n",
      "1.0290344771157294\n"
     ]
    },
    {
     "data": {
      "image/png": "[encoded data removed]",
      "text/plain": [
       "<Figure size 432x288 with 1 Axes>"
      ]
     },
     "metadata": {
      "needs_background": "light"
     },
     "output_type": "display_data"
    }
   ],
   "source": [
    "fig, ax = plt.subplots()\n",
    "#cmap = copy(plt.cm.get_cmap(\"jet\"))\n",
    "df_sym = df_dvpi0\n",
    "print(len(df_sym))\n",
    "print(((0.1349768/df_sym[\"Mpi0\"])).mean())\n",
    "# ax.hist2d(df_sym[\"Ge\"], (0.1349768/df_sym[\"Mpi0\"])**2-1, bins = [51, 51], cmap = cmap, cmin = 1)\n",
    "ax.hist(df_sym[\"Mpi0\"], bins = np.linspace(0.02, 0.2, 51))\n",
    "# plt.xlim([-0.5, 1.2])\n",
    "# ax.hist2d(df_sym[\"Ge2\"], (df_sym[\"Mpi0\"]/0.1349768), bins = [51, 51], cmap = cmap, cmin = 1)\n",
    "plt.xlabel(\"GG Inv. Mass (GeV)\")\n",
    "plt.ylabel(\"counts\")\n",
    "plt.title(\"GG Inv. Mass for Events Passing DVPi0 Cuts\")\n",
    "# ax.hist(df_dvpi0[\"Mpi0\"], bins = 101)\n",
    "plt.show()"
   ]
  },
  {
   "cell_type": "code",
   "execution_count": 192,
   "metadata": {},
   "outputs": [
    {
     "data": {
      "text/plain": [
       "array([[<AxesSubplot:title={'center':'xB'}>]], dtype=object)"
      ]
     },
     "execution_count": 192,
     "metadata": {},
     "output_type": "execute_result"
    },
    {
     "data": {
      "image/png": "[encoded data removed]",
      "text/plain": [
       "<Figure size 432x288 with 1 Axes>"
      ]
     },
     "metadata": {
      "needs_background": "light"
     },
     "output_type": "display_data"
    }
   ],
   "source": [
    "#https://pandas.pydata.org/pandas-docs/stable/reference/api/pandas.DataFrame.hist.html\n",
    "df_epgg.query(\n",
    "    \"xB < 1\").hist(\n",
    "    column=\"xB\", bins=100)"
   ]
  },
  {
   "cell_type": "code",
   "execution_count": null,
   "metadata": {},
   "outputs": [],
   "source": []
  }
 ],
 "metadata": {
  "kernelspec": {
   "display_name": "Python 3",
   "language": "python",
   "name": "python3"
  },
  "language_info": {
   "codemirror_mode": {
    "name": "ipython",
    "version": 3
   },
   "file_extension": ".py",
   "mimetype": "text/x-python",
   "name": "python",
   "nbconvert_exporter": "python",
   "pygments_lexer": "ipython3",
   "version": "3.6.9"
  }
 },
 "nbformat": 4,
 "nbformat_minor": 4
}
