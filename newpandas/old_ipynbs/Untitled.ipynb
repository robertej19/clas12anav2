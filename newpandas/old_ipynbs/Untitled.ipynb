{
 "cells": [
  {
   "cell_type": "code",
   "execution_count": 36,
   "metadata": {},
   "outputs": [],
   "source": [
    "#!/usr/bin/python\n",
    "\n",
    "import uproot\n",
    "from icecream import ic\n",
    "import numpy as np\n",
    "import matplotlib.mlab as mlab\n",
    "import matplotlib.pyplot as plt\n",
    "import subprocess\n",
    "import os\n",
    "import time\n",
    "import shutil\n",
    "from shutil import copyfile\n"
   ]
  },
  {
   "cell_type": "code",
   "execution_count": null,
   "metadata": {},
   "outputs": [],
   "source": [
    "M = 0.938272081\n",
    "me = 0.5109989461 * 0.001\n",
    "ebeam = 10.604\n",
    "pbeam = np.sqrt(ebeam * ebeam - me * me)\n",
    "beam = [0, 0, pbeam]\n",
    "target = [0, 0, 0]"
   ]
  },
  {
   "cell_type": "code",
   "execution_count": 35,
   "metadata": {},
   "outputs": [
    {
     "name": "stdout",
     "output_type": "stream",
     "text": [
      "['nmb', 'Pp', 'Ppx', 'Ppy', 'Ppz', 'Ptheta', 'Pphi', 'Pvx', 'Pvy', 'Pvz', 'Pvt', 'Pbeta', 'Pstat', 'PorigIndx', 'nml', 'Ep', 'Epx', 'Epy', 'Epz', 'Etheta', 'Ephi', 'Evx', 'Evy', 'Evz', 'Evt', 'Ebeta', 'Estat', 'EorigIndx', 'nmg', 'Gp', 'Gpx', 'Gpy', 'Gpz', 'Gtheta', 'Gphi', 'Gvx', 'Gvy', 'Gvz', 'Gvt', 'Gbeta', 'Gstat', 'GorigIndx', 'beamQ', 'liveTime', 'startTime', 'RFTime', 'helicity', 'helicityRaw', 'EventNum', 'RunNum', 'Q2', 'Nu', 'q', 'qx', 'qy', 'qz', 'W2', 'xB', 't']\n"
     ]
    }
   ],
   "source": [
    "data_file = \"skim8_005032_filtered.root\"\n",
    "file = uproot.open(data_file)\n",
    "        \n",
    "tree = file[\"T\"]   \n",
    "print(tree.keys())"
   ]
  },
  {
   "cell_type": "code",
   "execution_count": 37,
   "metadata": {},
   "outputs": [],
   "source": [
    "# initialize df\n",
    "df_electron = pd.DataFrame()\n",
    "df_proton = pd.DataFrame()\n",
    "df_gamma = pd.DataFrame()"
   ]
  },
  {
   "cell_type": "code",
   "execution_count": 49,
   "metadata": {},
   "outputs": [
    {
     "name": "stdout",
     "output_type": "stream",
     "text": [
      "                     Epx       Epy       Epz       Evz    Etheta      Ephi  \\\n",
      "entry subentry                                                               \n",
      "0     0         0.128060  0.794708  2.058435  0.020737  0.372771  1.411029   \n",
      "1     0         0.609048  0.953577  5.935979 -3.554013  0.188354  1.002407   \n",
      "2     0        -0.969444 -0.070090  6.233665 -1.064051  0.154678 -3.069418   \n",
      "3     0         0.272029  0.575523  1.988892 -4.445016  0.309762  1.129256   \n",
      "4     0         0.513050 -0.645339  4.399658 -3.606798  0.185237 -0.899106   \n",
      "...                  ...       ...       ...       ...       ...       ...   \n",
      "57155 0         0.591130  1.022972  7.913909 -4.363057  0.148198  1.046818   \n",
      "57156 0         0.615304 -1.258897  8.077948 -0.946698  0.171753 -1.116177   \n",
      "57157 0         0.548618 -0.780266  6.480116 -0.783584  0.146144 -0.957982   \n",
      "57158 0        -0.307810 -0.686286  4.631073  0.396530  0.161009 -1.992416   \n",
      "57159 0        -0.153188 -0.607261  2.778714 -0.928987  0.221682 -1.817901   \n",
      "\n",
      "                event  RunNum  \n",
      "entry subentry                 \n",
      "0     0             0     NaN  \n",
      "1     0             1     NaN  \n",
      "2     0             2     NaN  \n",
      "3     0             3     NaN  \n",
      "4     0             4     NaN  \n",
      "...               ...     ...  \n",
      "57155 0         57155     NaN  \n",
      "57156 0         57156     NaN  \n",
      "57157 0         57157     NaN  \n",
      "57158 0         57158     NaN  \n",
      "57159 0         57159     NaN  \n",
      "\n",
      "[57160 rows x 8 columns]\n",
      "                     Ppx       Ppy       Ppz       Pvz  Pstat  PorigIndx  \\\n",
      "entry subentry                                                             \n",
      "0     0        -0.273115 -0.391119  0.455782 -1.669512   4100          0   \n",
      "1     0        -0.610855 -0.041088  2.447428 -4.018821   2210          0   \n",
      "2     0         0.386532  0.103144  0.346167 -1.292403   4100          0   \n",
      "3     0         0.040685  0.282148  0.271698 -6.439954   4100          0   \n",
      "4     0        -0.059559  0.478121  0.828268 -3.791267   2100          0   \n",
      "...                  ...       ...       ...       ...    ...        ...   \n",
      "57155 0        -0.843023 -0.526621  1.867762 -4.518237   2200          0   \n",
      "57156 0        -0.688677  0.363311  1.056418  0.304270   2100          0   \n",
      "57157 0         0.105405  0.594723  1.390162 -4.379842   2230          0   \n",
      "57158 0        -0.030704  0.983409  3.106243 -4.178852   2220          0   \n",
      "57159 0         0.073435 -0.282730  0.846038 -4.343887   2220          0   \n",
      "\n",
      "                  Ptheta      Pphi  event  \n",
      "entry subentry                             \n",
      "0     0         0.808181 -2.180373      0  \n",
      "1     0         0.245124 -3.074431      1  \n",
      "2     0         0.857490  0.260769      2  \n",
      "3     0         0.809405  1.427585      3  \n",
      "4     0         0.526866  1.694727      4  \n",
      "...                  ...       ...    ...  \n",
      "57155 0         0.489061 -2.583222  57155  \n",
      "57156 0         0.635162  2.656150  57156  \n",
      "57157 0         0.409869  1.395384  57157  \n",
      "57158 0         0.306748  1.602008  57158  \n",
      "57159 0         0.332454 -1.316675  57159  \n",
      "\n",
      "[59092 rows x 9 columns]\n",
      "                     Gpx       Gpy       Gpz  Gstat  GorigIndx    Gtheta  \\\n",
      "entry subentry                                                             \n",
      "0     0         0.085952 -0.334371  1.236142   2020          0  0.272350   \n",
      "      1         0.082031 -0.208803  0.415269   2020          0  0.495307   \n",
      "1     0         0.218296 -0.198232  0.598252   2020          0  0.457942   \n",
      "      1         0.105162 -0.026216  0.437452   2010          0  0.242864   \n",
      "2     0        -0.034353  0.133768  0.697854   2020          0  0.195380   \n",
      "...                  ...       ...       ...    ...        ...       ...   \n",
      "57158 0        -0.101463 -0.171937  0.664657   2020          0  0.291796   \n",
      "      1         0.006586  0.067445  0.105263   2010          0  0.571989   \n",
      "57159 0         0.115726  0.203449  0.437291   2130          0  0.491448   \n",
      "      1         0.191338 -0.068104  0.393181   2010          0  0.476799   \n",
      "      2         0.028852  0.100585  0.351145   2130          0  0.289621   \n",
      "\n",
      "                    Gphi  event  \n",
      "entry subentry                   \n",
      "0     0        -1.319189      0  \n",
      "      1        -1.196458      0  \n",
      "1     0        -0.737265      1  \n",
      "      1        -0.244316      1  \n",
      "2     0         1.822176      2  \n",
      "...                  ...    ...  \n",
      "57158 0        -2.103917  57158  \n",
      "      1         1.473461  57158  \n",
      "57159 0         1.053620  57159  \n",
      "      1        -0.341952  57159  \n",
      "      2         1.291452  57159  \n",
      "\n",
      "[160963 rows x 8 columns]\n"
     ]
    }
   ],
   "source": [
    "for key in [\"RunNum\",\"EventNum\",'helicity','helicityRaw',\"Epx\", \"Epy\", \"Epz\", \"Evz\", \"Etheta\",\"Ephi\"]:\n",
    "    df_electron[key] = tree[key].array(library=\"pd\")\n",
    "\n",
    "for key in [\"Ppx\", \"Ppy\", \"Ppz\", \"Pvz\", \"Pstat\", \"PorigIndx\", \"Ptheta\",\"Pphi\"]:\n",
    "    df_proton[key] = tree[key].array(library=\"pd\")\n",
    "    \n",
    "\n",
    "for key in [\"Gpx\", \"Gpy\", \"Gpz\", \"Gstat\", \"GorigIndx\", \"Gtheta\",\"Gphi\"]:\n",
    "    df_gamma[key] = tree[key].array(library=\"pd\")\n",
    "    \n",
    "print(df_electron)\n",
    "print(df_proton)\n",
    "print(df_gamma)\n"
   ]
  },
  {
   "cell_type": "code",
   "execution_count": 45,
   "metadata": {},
   "outputs": [],
   "source": [
    "# change the data type to double, Sangbaek knows why\n",
    "df_electron = df_electron.astype({\"Epx\": float, \"Epy\": float, \"Epz\": float})\n",
    "df_proton = df_proton.astype({\"Ppx\": float, \"Ppy\": float, \"Ppz\": float})\n",
    "df_gamma = df_gamma.astype({\"Gpx\": float, \"Gpy\": float, \"Gpz\": float})"
   ]
  },
  {
   "cell_type": "code",
   "execution_count": 46,
   "metadata": {},
   "outputs": [],
   "source": [
    "#Get proper indexing before merging\n",
    "df_electron['event'] = df_electron.index.get_level_values('entry')\n",
    "df_proton['event'] = df_proton.index.get_level_values('entry')\n",
    "df_gamma['event'] = df_gamma.index.get_level_values('entry')"
   ]
  },
  {
   "cell_type": "code",
   "execution_count": 48,
   "metadata": {},
   "outputs": [
    {
     "name": "stdout",
     "output_type": "stream",
     "text": [
      "                     Epx       Epy       Epz       Evz    Etheta      Ephi  \\\n",
      "entry subentry                                                               \n",
      "0     0         0.128060  0.794708  2.058435  0.020737  0.372771  1.411029   \n",
      "1     0         0.609048  0.953577  5.935979 -3.554013  0.188354  1.002407   \n",
      "2     0        -0.969444 -0.070090  6.233665 -1.064051  0.154678 -3.069418   \n",
      "3     0         0.272029  0.575523  1.988892 -4.445016  0.309762  1.129256   \n",
      "4     0         0.513050 -0.645339  4.399658 -3.606798  0.185237 -0.899106   \n",
      "...                  ...       ...       ...       ...       ...       ...   \n",
      "57155 0         0.591130  1.022972  7.913909 -4.363057  0.148198  1.046818   \n",
      "57156 0         0.615304 -1.258897  8.077948 -0.946698  0.171753 -1.116177   \n",
      "57157 0         0.548618 -0.780266  6.480116 -0.783584  0.146144 -0.957982   \n",
      "57158 0        -0.307810 -0.686286  4.631073  0.396530  0.161009 -1.992416   \n",
      "57159 0        -0.153188 -0.607261  2.778714 -0.928987  0.221682 -1.817901   \n",
      "\n",
      "                event  \n",
      "entry subentry         \n",
      "0     0             0  \n",
      "1     0             1  \n",
      "2     0             2  \n",
      "3     0             3  \n",
      "4     0             4  \n",
      "...               ...  \n",
      "57155 0         57155  \n",
      "57156 0         57156  \n",
      "57157 0         57157  \n",
      "57158 0         57158  \n",
      "57159 0         57159  \n",
      "\n",
      "[57160 rows x 7 columns]\n"
     ]
    }
   ],
   "source": [
    "print(df_electron)"
   ]
  },
  {
   "cell_type": "code",
   "execution_count": null,
   "metadata": {},
   "outputs": [],
   "source": []
  }
 ],
 "metadata": {
  "kernelspec": {
   "display_name": "Python 3",
   "language": "python",
   "name": "python3"
  },
  "language_info": {
   "codemirror_mode": {
    "name": "ipython",
    "version": 3
   },
   "file_extension": ".py",
   "mimetype": "text/x-python",
   "name": "python",
   "nbconvert_exporter": "python",
   "pygments_lexer": "ipython3",
   "version": "3.6.9"
  }
 },
 "nbformat": 4,
 "nbformat_minor": 4
}
