{
 "cells": [
  {
   "cell_type": "code",
   "execution_count": 6,
   "metadata": {},
   "outputs": [
    {
     "name": "stdout",
     "output_type": "stream",
     "text": [
      "test2\n"
     ]
    }
   ],
   "source": [
    "#!/usr/bin/python\n",
    "\n",
    "import uproot\n",
    "from icecream import ic\n",
    "import numpy as np\n",
    "import matplotlib.mlab as mlab\n",
    "import matplotlib.pyplot as plt\n",
    "import subprocess\n",
    "import os\n",
    "import time\n",
    "import shutil\n",
    "from shutil import copyfile\n",
    "\n",
    "\n",
    "print(\"test2\")"
   ]
  },
  {
   "cell_type": "code",
   "execution_count": 2,
   "metadata": {},
   "outputs": [
    {
     "name": "stdout",
     "output_type": "stream",
     "text": [
      "car\n"
     ]
    }
   ],
   "source": [
    "\"\"\"\n",
    "tree.keys()\n",
    "['nmb', 'Pp', 'Ppx', 'Ppy', 'Ppz', 'Ptheta', 'Pphi', \n",
    "'Pvx', 'Pvy', 'Pvz', 'Pvt', 'PSector', 'Pbeta', 'Pstat', \n",
    "'nml', 'Ep', 'Epx', 'Epy', 'Epz', 'Etheta', 'Ephi', 'Evx', \n",
    "'Evy', 'Evz', 'Evt', 'Ebeta', 'Estat', 'ESector', 'nmg', \n",
    "'Gp', 'Gpx', 'Gpy', 'Gpz', 'Gtheta', 'Gphi', 'Gvx', 'Gvy', \n",
    "'Gvz', 'Gvt', 'GSector', 'Gbeta', 'Gstat', 'beamQ', \n",
    "'liveTime', 'startTime', 'RFTime', 'helicity', \n",
    "'helicityRaw', 'EventNum', 'RunNum', 'Q2', 'Nu', 'q', 'qx',\n",
    "'qy', 'qz', 'W2', 'xB', 't', 'combint', 'mPpx', 'mPpy',\n",
    "'mPpz', 'mPp', 'mmP', 'meP', 'Mpx', 'Mpy', 'Mpz', 'Mp',\n",
    "'mm', 'me', 'mGpx', 'mGpy', 'mGpz', 'mGp', 'mmG', 'meG',\n",
    "'Pi0p', 'Pi0px', 'Pi0py', 'Pi0pz', 'Pi0theta',\n",
    "'Pi0phi', 'Pi0M', 'Pi0Sector', 'pIndex', 'gIndex1',\n",
    "'gIndex2', 'trento', 'trento2', 'trento3']  \n",
    "\n",
    "\"\"\""
   ]
  },
  {
   "cell_type": "code",
   "execution_count": 10,
   "metadata": {},
   "outputs": [
    {
     "name": "stdout",
     "output_type": "stream",
     "text": [
      "57160\n"
     ]
    }
   ],
   "source": [
    "data_file = \"skim8_005032_filtered.root\"\n",
    "file = uproot.open(data_file)\n",
    "        \n",
    "tree = file[\"T\"]   \n",
    "\n",
    "q2 = tree[\"Q2\"].array()\n",
    "print(tree.keys())"
   ]
  },
  {
   "cell_type": "code",
   "execution_count": null,
   "metadata": {},
   "outputs": [],
   "source": []
  }
 ],
 "metadata": {
  "kernelspec": {
   "display_name": "Python 3",
   "language": "python",
   "name": "python3"
  },
  "language_info": {
   "codemirror_mode": {
    "name": "ipython",
    "version": 3
   },
   "file_extension": ".py",
   "mimetype": "text/x-python",
   "name": "python",
   "nbconvert_exporter": "python",
   "pygments_lexer": "ipython3",
   "version": "3.6.9"
  }
 },
 "nbformat": 4,
 "nbformat_minor": 4
}
